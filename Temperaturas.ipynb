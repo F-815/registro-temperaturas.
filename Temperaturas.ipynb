echo "# registro-temperaturas." >> README.md 
git init 
git add README.md 
git commit -m "primer commit" 
git branch -M main 
git remote add origin https://github.com/F-815/registro-temperaturas..git
 git push -u origin main
